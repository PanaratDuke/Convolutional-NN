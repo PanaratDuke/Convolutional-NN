{
 "cells": [
  {
   "cell_type": "code",
   "execution_count": 1,
   "metadata": {},
   "outputs": [],
   "source": [
    "%matplotlib inline"
   ]
  },
  {
   "cell_type": "markdown",
   "metadata": {},
   "source": [
    "\n",
    "==============================\n",
    "Rescale, resize, and downscale\n",
    "==============================\n",
    "\n",
    "`Rescale` operation resizes an image by a given scaling factor. The scaling\n",
    "factor can either be a single floating point value, or multiple values - one\n",
    "along each axis.\n",
    "\n",
    "`Resize` serves the same purpose, but allows to specify an output image shape\n",
    "instead of a scaling factor.\n",
    "\n",
    "Note that when down-sampling an image, `resize` and `rescale` should perform\n",
    "Gaussian smoothing to avoid aliasing artifacts. See the `anti_aliasing` and\n",
    "`anti_aliasing_sigma` arguments to these functions.\n",
    "\n",
    "`Downscale` serves the purpose of down-sampling an n-dimensional image by\n",
    "integer factors using the local mean on the elements of each block of the size\n",
    "factors given as a parameter to the function.\n"
   ]
  },
  {
   "cell_type": "code",
   "execution_count": 2,
   "metadata": {},
   "outputs": [],
   "source": [
    "import base64\n",
    "import numpy as np\n",
    "import io\n",
    "import PIL\n",
    "import re\n",
    "import sys\n",
    "from skimage.color import rgb2gray, rgba2rgb\n",
    "np.set_printoptions(threshold=sys.maxsize)"
   ]
  },
  {
   "cell_type": "code",
   "execution_count": 3,
   "metadata": {},
   "outputs": [
    {
     "data": {
      "text/plain": [
       "'C:\\\\ProgramData\\\\Anaconda3\\\\envs\\\\tfg\\\\python.exe'"
      ]
     },
     "execution_count": 3,
     "metadata": {},
     "output_type": "execute_result"
    }
   ],
   "source": [
    "import os\n",
    "import sys\n",
    "sys.executable"
   ]
  },
  {
   "cell_type": "code",
   "execution_count": 4,
   "metadata": {},
   "outputs": [],
   "source": [
    "import matplotlib.pyplot as plt\n",
    "\n",
    "from skimage import data, color\n",
    "from skimage.transform import resize"
   ]
  },
  {
   "cell_type": "code",
   "execution_count": 5,
   "metadata": {},
   "outputs": [],
   "source": [
    "import tensorflow as tf\n",
    "from tensorflow.keras.models import Sequential\n",
    "from tensorflow.keras.layers import Dense, Dropout, Flatten, Conv2D, MaxPooling2D\n",
    "from tensorflow.keras.callbacks import TensorBoard\n",
    "from tensorflow.keras.datasets import mnist\n",
    "from tensorflow.keras.layers import BatchNormalization\n",
    "import numpy as np\n",
    "from time import time"
   ]
  },
  {
   "cell_type": "code",
   "execution_count": 6,
   "metadata": {},
   "outputs": [],
   "source": [
    "# Dependencies to Visualize the model\n",
    "# %matplotlib inline\n",
    "from IPython.display import Image, SVG\n",
    "# import matplotlib.pyplot as plt\n",
    "import numpy as np\n",
    "import os \n",
    "from os import listdir\n",
    "from os.path import isfile, join"
   ]
  },
  {
   "cell_type": "code",
   "execution_count": 7,
   "metadata": {},
   "outputs": [],
   "source": [
    "from tensorflow.keras.models import load_model\n",
    "from tensorflow.keras.preprocessing.image import img_to_array\n",
    "from tensorflow.keras.preprocessing import image as image_processing\n",
    "from IPython.display import Image as img_show"
   ]
  },
  {
   "cell_type": "code",
   "execution_count": 24,
   "metadata": {},
   "outputs": [],
   "source": [
    "string64=\"data:image/png;base64,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\""
   ]
  },
  {
   "cell_type": "code",
   "execution_count": 25,
   "metadata": {
    "scrolled": true
   },
   "outputs": [
    {
     "data": {
      "text/plain": [
       "'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'"
      ]
     },
     "execution_count": 25,
     "metadata": {},
     "output_type": "execute_result"
    }
   ],
   "source": [
    "string64 = string64.split(\",\")[-1]\n",
    "string64"
   ]
  },
  {
   "cell_type": "code",
   "execution_count": 10,
   "metadata": {},
   "outputs": [],
   "source": [
    "# base64_decoded =base64.b64decode(string64)"
   ]
  },
  {
   "cell_type": "code",
   "execution_count": 11,
   "metadata": {
    "scrolled": true
   },
   "outputs": [],
   "source": [
    "# image64decode = PIL.Image.open(io.BytesIO(base64_decoded)).convert(mode=\"L\").resize((28,28))\n",
    "# print(image64decode)"
   ]
  },
  {
   "cell_type": "code",
   "execution_count": 12,
   "metadata": {},
   "outputs": [],
   "source": [
    "# image64decode.show()"
   ]
  },
  {
   "cell_type": "code",
   "execution_count": 13,
   "metadata": {},
   "outputs": [],
   "source": [
    "# image = 1- np.array(image64decode)/255\n",
    "# image"
   ]
  },
  {
   "cell_type": "code",
   "execution_count": 14,
   "metadata": {},
   "outputs": [],
   "source": [
    "# image = np.array(image64decode)"
   ]
  },
  {
   "cell_type": "code",
   "execution_count": 15,
   "metadata": {},
   "outputs": [],
   "source": [
    "# image.shape"
   ]
  },
  {
   "cell_type": "code",
   "execution_count": 16,
   "metadata": {},
   "outputs": [],
   "source": [
    "# grayscale = rgb2gray(rgba2rgb(image))"
   ]
  },
  {
   "cell_type": "code",
   "execution_count": 17,
   "metadata": {},
   "outputs": [],
   "source": [
    "# grayscale.shape"
   ]
  },
  {
   "cell_type": "code",
   "execution_count": 18,
   "metadata": {},
   "outputs": [],
   "source": [
    "# newarray = np.asarray(grayscale, dtype=np.float64)\n",
    "# newarray.shape"
   ]
  },
  {
   "cell_type": "code",
   "execution_count": 26,
   "metadata": {
    "scrolled": true
   },
   "outputs": [],
   "source": [
    "def plot_input(data):\n",
    "    image=data\n",
    "    # image_rescaled = rescale(image, 0.25, anti_aliasing=False)\n",
    "    image_resized = resize(image, (28,28), anti_aliasing=True)\n",
    "    # image_downscaled = downscale_local_mean(image, (4, 3))\n",
    "\n",
    "    fig, axes = plt.subplots(nrows=2, ncols=2)\n",
    "\n",
    "    ax = axes.ravel()\n",
    "\n",
    "    ax[0].imshow(image)\n",
    "    ax[0].set_title(\"Original image\")\n",
    "\n",
    "    # ax[1].imshow(image_rescaled, cmap='gray')\n",
    "    # ax[1].set_title(\"Rescaled image (aliasing)\")\n",
    "\n",
    "    ax[2].imshow(image_resized)\n",
    "    ax[2].set_title(\"Resized image (no aliasing)\")\n",
    "\n",
    "    # ax[3].imshow(image_downscaled, cmap='gray')\n",
    "    # ax[3].set_title(\"Downscaled image (no aliasing)\")\n",
    "\n",
    "    ax[0].set_xlim(0, 28)\n",
    "    ax[0].set_ylim(28, 0)\n",
    "    plt.tight_layout()\n",
    "    plt.show()"
   ]
  },
  {
   "cell_type": "code",
   "execution_count": 27,
   "metadata": {},
   "outputs": [],
   "source": [
    "# load the trained model\n",
    "model = load_model(\"../Trained_Model/final_model.h5\")\n",
    "\n",
    "# recompile the model\n",
    "model.compile(optimizer = 'adam', loss = 'binary_crossentropy', metrics = ['accuracy'])"
   ]
  },
  {
   "cell_type": "code",
   "execution_count": 28,
   "metadata": {},
   "outputs": [],
   "source": [
    "# define some colors for print-function\n",
    "red = '\\033[31m'\n",
    "bolt = '\\033[1m'\n",
    "blu = '\\033[34m'\n",
    "prp = '\\033[35m'\n",
    "nc = '\\033[0m'\n",
    "\n",
    "def img_predict (base64string):\n",
    "    base64_decoded =base64.b64decode(base64string)\n",
    "    resize_GC_img = PIL.Image.open(io.BytesIO(base64_decoded)).convert(mode=\"L\").resize((28,28))\n",
    "    print(resize_GC_img)\n",
    "    inverted_norm_array =  1 - np.asarray(resize_GC_img, dtype=np.float64)/255\n",
    "    print(inverted_norm_array.shape)\n",
    "    plot_input(inverted_norm_array)\n",
    "    \n",
    "    new_GC_etx = np.expand_dims(inverted_norm_array, axis=(3,0))\n",
    "    print(new_GC_etx.shape)\n",
    "    # con2v takes an array of 4 parameters, need to expand to add\n",
    "    # additional dimension to the image\n",
    "\n",
    "    \n",
    "    # Invert the pixel values to highlight the features of the hand-written digit\n",
    "    # as 0 x 0 = 0 => weight is not updated\n",
    "    # pixel value of black (which is the digit ink pixel value) is 0\n",
    "    # this would decrease performance (slower eight update) of CNN\n",
    "    # therefore, inverted the grayscale to change the black pixel value\n",
    "    # instead of 0 closer to 1 (after scaled by /=255)\n",
    "    \n",
    "#     print(\"before converstion :: \\n\", image)\n",
    "#     print(\"after converstion :: \\n\", image)\n",
    "    \n",
    "    prediction = np.argmax(model.predict(new_GC_etx), axis=-1)\n",
    "    return print(f\"This is number :: {red}{bolt}{prediction[0]}{nc}\\n{('=')*40}\")"
   ]
  },
  {
   "cell_type": "code",
   "execution_count": 29,
   "metadata": {},
   "outputs": [
    {
     "name": "stdout",
     "output_type": "stream",
     "text": [
      "<PIL.Image.Image image mode=L size=28x28 at 0x15E35223448>\n",
      "(28, 28)\n"
     ]
    },
    {
     "data": {
      "image/png": "[encoded data removed]",
      "text/plain": [
       "<Figure size 432x288 with 4 Axes>"
      ]
     },
     "metadata": {
      "needs_background": "light"
     },
     "output_type": "display_data"
    },
    {
     "name": "stdout",
     "output_type": "stream",
     "text": [
      "(1, 28, 28, 1)\n",
      "This is number :: \u001b[31m\u001b[1m3\u001b[0m\n",
      "========================================\n"
     ]
    }
   ],
   "source": [
    "img_predict(string64)"
   ]
  },
  {
   "cell_type": "code",
   "execution_count": null,
   "metadata": {},
   "outputs": [],
   "source": []
  }
 ],
 "metadata": {
  "kernelspec": {
   "display_name": "tfg-conda-py3",
   "language": "python",
   "name": "tfg"
  },
  "language_info": {
   "codemirror_mode": {
    "name": "ipython",
    "version": 3
   },
   "file_extension": ".py",
   "mimetype": "text/x-python",
   "name": "python",
   "nbconvert_exporter": "python",
   "pygments_lexer": "ipython3",
   "version": "3.7.7"
  }
 },
 "nbformat": 4,
 "nbformat_minor": 1
}
